{
 "cells": [
  {
   "cell_type": "code",
   "execution_count": 31,
   "metadata": {},
   "outputs": [],
   "source": [
    "# import needed packages\n",
    "\n",
    "import pandas as pd\n",
    "import datarobot as dr\n",
    "import math\n",
    "import matplotlib.pyplot as plt\n",
    "\n",
    "# read in master data \n",
    "NGIC = pd.read_csv(\"/Users/quncai.zou/Documents/NGIC/input_data_data_robot.csv\", encoding = 'ISO-8859-1')\n",
    "pd.options.display.max_columns = 112 # enable options to show all the columns\n",
    "NGIC.head()"
   ]
  },
  {
   "cell_type": "code",
   "execution_count": 96,
   "metadata": {},
   "outputs": [],
   "source": [
    "# define function NGIC_Data_subset_pd: to get the data for state/coverage (PD) segment and upload it to DR\n",
    "def NGIC_Data_subset(projectname, feature_list):\n",
    "    dr.Client(token='NWRjNGZhNjMzNGE5ODcwZDQzZmZiN2E0OnpyZzV5STI5VEVxeTNwbU9JV1h5eHNMQzhLWHBUbURKSFE5MWVueFNGblk9', endpoint='https://app.datarobot.com/api/v2')\n",
    "    project = dr.Project.create(sourcedata, project_name=projectname)\n",
    "    featurelist = project.create_featurelist('feature_base', feature_list)\n",
    "#     project.start_autopilot(featurelist.id)"
   ]
  },
  {
   "cell_type": "code",
   "execution_count": 37,
   "metadata": {},
   "outputs": [],
   "source": [
    "def loss_ratio_relativity(PROJECT_ID, MODEL_ID, current_pred, loss):\n",
    "# get predictions for holdout set\n",
    "    model = dr.Model.get(project=PROJECT_ID, model_id=MODEL_ID)\n",
    "    # Calculate new training predictions on holdout partition of dataset\n",
    "    training_predictions_job = model.request_training_predictions(dr.enums.DATA_SUBSET.HOLDOUT)\n",
    "    training_predictions = training_predictions_job.get_result_when_complete()\n",
    "    # Fetch training predictions as data frame\n",
    "    preds = training_predictions.get_all_as_dataframe()\n",
    "    print(preds.head())\n",
    "    print(\"done with predictions\")\n",
    "# merge downloaded predictions with original data to get additional features\n",
    "\n",
    "    prediction_actual = pd.merge(preds,sourcedata,on=\"row_id\",how=\"left\")\n",
    "    print(prediction_actual.head())\n",
    "    return prediction_actual"
   ]
  },
  {
   "cell_type": "code",
   "execution_count": 98,
   "metadata": {},
   "outputs": [
    {
     "name": "stderr",
     "output_type": "stream",
     "text": [
      "/Users/quncai.zou/opt/anaconda3/lib/python3.7/site-packages/pandas/core/indexing.py:376: SettingWithCopyWarning: \n",
      "A value is trying to be set on a copy of a slice from a DataFrame.\n",
      "Try using .loc[row_indexer,col_indexer] = value instead\n",
      "\n",
      "See the caveats in the documentation: http://pandas.pydata.org/pandas-docs/stable/user_guide/indexing.html#returning-a-view-versus-a-copy\n",
      "  self.obj[key] = _infer_fill_value(value)\n",
      "/Users/quncai.zou/opt/anaconda3/lib/python3.7/site-packages/pandas/core/indexing.py:494: SettingWithCopyWarning: \n",
      "A value is trying to be set on a copy of a slice from a DataFrame.\n",
      "Try using .loc[row_indexer,col_indexer] = value instead\n",
      "\n",
      "See the caveats in the documentation: http://pandas.pydata.org/pandas-docs/stable/user_guide/indexing.html#returning-a-view-versus-a-copy\n",
      "  self.obj[item] = s\n"
     ]
    },
    {
     "ename": "TypeError",
     "evalue": "unhashable type: 'list'",
     "output_type": "error",
     "traceback": [
      "\u001b[0;31m---------------------------------------------------------------------------\u001b[0m",
      "\u001b[0;31mTypeError\u001b[0m                                 Traceback (most recent call last)",
      "\u001b[0;32m<ipython-input-98-ba971e0ca353>\u001b[0m in \u001b[0;36m<module>\u001b[0;34m\u001b[0m\n\u001b[1;32m     18\u001b[0m                 'MinorCount_pol','MajorCount_pol','AfaCount_pol','NafaCount_pol']\n\u001b[1;32m     19\u001b[0m \u001b[0;31m#call the function NGIC_Data_subset to prepare for DR project\u001b[0m\u001b[0;34m\u001b[0m\u001b[0;34m\u001b[0m\u001b[0;34m\u001b[0m\u001b[0m\n\u001b[0;32m---> 20\u001b[0;31m \u001b[0mNGIC_Data_subset\u001b[0m\u001b[0;34m(\u001b[0m\u001b[0mprojectname\u001b[0m\u001b[0;34m,\u001b[0m \u001b[0mfeature_list\u001b[0m\u001b[0;34m)\u001b[0m\u001b[0;34m\u001b[0m\u001b[0;34m\u001b[0m\u001b[0m\n\u001b[0m\u001b[1;32m     21\u001b[0m \u001b[0mprint\u001b[0m\u001b[0;34m(\u001b[0m\u001b[0;34m\"data is uploaded - go to DR and continue...\"\u001b[0m\u001b[0;34m)\u001b[0m\u001b[0;34m\u001b[0m\u001b[0;34m\u001b[0m\u001b[0m\n",
      "\u001b[0;32m<ipython-input-96-77fb632f0e71>\u001b[0m in \u001b[0;36mNGIC_Data_subset\u001b[0;34m(projectname, feature_list)\u001b[0m\n\u001b[1;32m      3\u001b[0m     \u001b[0mdr\u001b[0m\u001b[0;34m.\u001b[0m\u001b[0mClient\u001b[0m\u001b[0;34m(\u001b[0m\u001b[0mtoken\u001b[0m\u001b[0;34m=\u001b[0m\u001b[0;34m'NWRjNGZhNjMzNGE5ODcwZDQzZmZiN2E0OnpyZzV5STI5VEVxeTNwbU9JV1h5eHNMQzhLWHBUbURKSFE5MWVueFNGblk9'\u001b[0m\u001b[0;34m,\u001b[0m \u001b[0mendpoint\u001b[0m\u001b[0;34m=\u001b[0m\u001b[0;34m'https://app.datarobot.com/api/v2'\u001b[0m\u001b[0;34m)\u001b[0m\u001b[0;34m\u001b[0m\u001b[0;34m\u001b[0m\u001b[0m\n\u001b[1;32m      4\u001b[0m     \u001b[0mproject\u001b[0m \u001b[0;34m=\u001b[0m \u001b[0mdr\u001b[0m\u001b[0;34m.\u001b[0m\u001b[0mProject\u001b[0m\u001b[0;34m.\u001b[0m\u001b[0mcreate\u001b[0m\u001b[0;34m(\u001b[0m\u001b[0msourcedata\u001b[0m\u001b[0;34m,\u001b[0m \u001b[0mproject_name\u001b[0m\u001b[0;34m=\u001b[0m\u001b[0mprojectname\u001b[0m\u001b[0;34m)\u001b[0m\u001b[0;34m\u001b[0m\u001b[0;34m\u001b[0m\u001b[0m\n\u001b[0;32m----> 5\u001b[0;31m     \u001b[0mfeaturelist\u001b[0m \u001b[0;34m=\u001b[0m \u001b[0mproject\u001b[0m\u001b[0;34m.\u001b[0m\u001b[0mcreate_featurelist\u001b[0m\u001b[0;34m(\u001b[0m\u001b[0;34m'feature_base'\u001b[0m\u001b[0;34m,\u001b[0m \u001b[0;34m[\u001b[0m\u001b[0mfeature_list\u001b[0m\u001b[0;34m]\u001b[0m\u001b[0;34m)\u001b[0m\u001b[0;34m\u001b[0m\u001b[0;34m\u001b[0m\u001b[0m\n\u001b[0m\u001b[1;32m      6\u001b[0m \u001b[0;31m#     project.start_autopilot(featurelist.id)\u001b[0m\u001b[0;34m\u001b[0m\u001b[0;34m\u001b[0m\u001b[0;34m\u001b[0m\u001b[0m\n",
      "\u001b[0;32m~/opt/anaconda3/lib/python3.7/site-packages/datarobot/models/project.py\u001b[0m in \u001b[0;36mcreate_featurelist\u001b[0;34m(self, name, features)\u001b[0m\n\u001b[1;32m   1517\u001b[0m         \u001b[0murl\u001b[0m \u001b[0;34m=\u001b[0m \u001b[0;34m'{}{}/featurelists/'\u001b[0m\u001b[0;34m.\u001b[0m\u001b[0mformat\u001b[0m\u001b[0;34m(\u001b[0m\u001b[0mself\u001b[0m\u001b[0;34m.\u001b[0m\u001b[0m_path\u001b[0m\u001b[0;34m,\u001b[0m \u001b[0mself\u001b[0m\u001b[0;34m.\u001b[0m\u001b[0mid\u001b[0m\u001b[0;34m)\u001b[0m\u001b[0;34m\u001b[0m\u001b[0;34m\u001b[0m\u001b[0m\n\u001b[1;32m   1518\u001b[0m \u001b[0;34m\u001b[0m\u001b[0m\n\u001b[0;32m-> 1519\u001b[0;31m         \u001b[0mduplicate_features\u001b[0m \u001b[0;34m=\u001b[0m \u001b[0mget_duplicate_features\u001b[0m\u001b[0;34m(\u001b[0m\u001b[0mfeatures\u001b[0m\u001b[0;34m)\u001b[0m\u001b[0;34m\u001b[0m\u001b[0;34m\u001b[0m\u001b[0m\n\u001b[0m\u001b[1;32m   1520\u001b[0m         \u001b[0;32mif\u001b[0m \u001b[0mduplicate_features\u001b[0m\u001b[0;34m:\u001b[0m\u001b[0;34m\u001b[0m\u001b[0;34m\u001b[0m\u001b[0m\n\u001b[1;32m   1521\u001b[0m             \u001b[0merr_msg\u001b[0m \u001b[0;34m=\u001b[0m \u001b[0;34m\"Can't create featurelist with duplicate \"\u001b[0m\u001b[0;31m \u001b[0m\u001b[0;31m\\\u001b[0m\u001b[0;34m\u001b[0m\u001b[0;34m\u001b[0m\u001b[0m\n",
      "\u001b[0;32m~/opt/anaconda3/lib/python3.7/site-packages/datarobot/utils/__init__.py\u001b[0m in \u001b[0;36mget_duplicate_features\u001b[0;34m(features)\u001b[0m\n\u001b[1;32m    139\u001b[0m     \u001b[0mseen_features\u001b[0m \u001b[0;34m=\u001b[0m \u001b[0mset\u001b[0m\u001b[0;34m(\u001b[0m\u001b[0;34m)\u001b[0m\u001b[0;34m\u001b[0m\u001b[0;34m\u001b[0m\u001b[0m\n\u001b[1;32m    140\u001b[0m     \u001b[0;32mfor\u001b[0m \u001b[0mfeature\u001b[0m \u001b[0;32min\u001b[0m \u001b[0mfeatures\u001b[0m\u001b[0;34m:\u001b[0m\u001b[0;34m\u001b[0m\u001b[0;34m\u001b[0m\u001b[0m\n\u001b[0;32m--> 141\u001b[0;31m         \u001b[0;32mif\u001b[0m \u001b[0mfeature\u001b[0m \u001b[0;32min\u001b[0m \u001b[0mseen_features\u001b[0m\u001b[0;34m:\u001b[0m\u001b[0;34m\u001b[0m\u001b[0;34m\u001b[0m\u001b[0m\n\u001b[0m\u001b[1;32m    142\u001b[0m             \u001b[0mduplicate_features\u001b[0m\u001b[0;34m.\u001b[0m\u001b[0madd\u001b[0m\u001b[0;34m(\u001b[0m\u001b[0mfeature\u001b[0m\u001b[0;34m)\u001b[0m\u001b[0;34m\u001b[0m\u001b[0;34m\u001b[0m\u001b[0m\n\u001b[1;32m    143\u001b[0m         \u001b[0;32melse\u001b[0m\u001b[0;34m:\u001b[0m\u001b[0;34m\u001b[0m\u001b[0;34m\u001b[0m\u001b[0m\n",
      "\u001b[0;31mTypeError\u001b[0m: unhashable type: 'list'"
     ]
    }
   ],
   "source": [
    "# state: NY, Coverage: pd - need to change state, coverage, and theoretical premium every time\n",
    "\n",
    "f_filter = 'GoverningStateCode == \"NY\" and pdexp > 0 and pdprem_theo > 0' # pls change \"NY\" and pdprem_theo to corresponding state and coerage\n",
    "projectname = 'NGIC_NY_PD_w_offset' # pls change project name to corresponding state/coverage\n",
    "sourcedata = NGIC.query(f_filter)\n",
    "sourcedata.loc[:,\"offset\"] = sourcedata.apply(lambda x: math.log(x.pdprem_theo), axis = 1) #pls change pdprem_theo to corresponding coverage\n",
    "\n",
    "feature_list = ['EndorsementNum', 'VehicleNum', 'pol_year', 'term', 'tenure',\n",
    "               'num_non_drv', 'num_excl_drv', 'num_oth_ins_drv','num_drv','PPAVehNum',\n",
    "               'SR22','tier_rad6','BIGroup','VehAge_incept','class_ins_exp',\n",
    "               'any_acc_ind_p','any_acc_ind_gt36_p','DistributionChannel','veh_hist_v2',\n",
    "               'symbol8bi','symbol8cl','symbol8cp','Terr_bipd''limitbi','limitpd',\n",
    "               'dedcl','dedcp','YoungDrv','OldDrv','Parent_Child','VehAge',\n",
    "               'youthful_pni','youthful_on_pol','parent_child_rel_on_pol','PNIAge',\n",
    "                'SpeedsCount_gt36_pol','SppCount_gt36_pol','SpdCount_gt36_pol','DwisCount_gt36_pol',\n",
    "                'MinorCount_gt36_pol','MajorCount_gt36_pol','AfaCount_gt36_pol','NafaCount_gt36_pol',\n",
    "                'SpeedsCount_pol','SppCount_pol','SpdCount_pol','DwisCount_pol',\n",
    "                'MinorCount_pol','MajorCount_pol','AfaCount_pol','NafaCount_pol']\n",
    "#call the function NGIC_Data_subset to prepare for DR project\n",
    "NGIC_Data_subset(projectname, feature_list)\n",
    "print(\"data is uploaded - go to DR and continue...\")"
   ]
  },
  {
   "cell_type": "code",
   "execution_count": 95,
   "metadata": {},
   "outputs": [
    {
     "name": "stdout",
     "output_type": "stream",
     "text": [
      "(10, 3)\n"
     ]
    },
    {
     "data": {
      "image/png": "[encoded data removed]",
      "text/plain": [
       "<Figure size 432x288 with 1 Axes>"
      ]
     },
     "metadata": {
      "needs_background": "light"
     },
     "output_type": "display_data"
    }
   ],
   "source": [
    "## get predictions for holdout dataset\n",
    "\n",
    "PROJECT_Id = '5e46bac593165c187ab09636' #pls change to the appropriate project_id\n",
    "MODEL_ID = '5e46bcb7bb76ccf3ac7ff817' #pls change to the appropriate model_id\n",
    "current_pred = \"pdprem_theo\"          #pls change to the appropriate xxxx_theo\n",
    "loss = \"pdinc\"                        #pls change to the appropriate project_id\n",
    "\n",
    "sourcedata[\"index\"] = sourcedata.index\n",
    "sourcedata[\"row_id\"] = sourcedata[\"index\"].rank()-1\n",
    "print(\"check 2\")\n",
    "output_data = loss_ratio_relativity(PROJECT_Id, MODEL_ID, current_pred, loss)\n",
    "    \n",
    "output_data[\"ratio\"] = output_data[\"prediction\"]/output_data[current_pred]\n",
    "output_data['bin'] = pd.qcut(output_data['ratio'], q=10, precision=0)\n",
    "\n",
    "\n",
    "LR_DR = output_data.groupby([\"bin\"])[loss].agg('sum')/output_data.groupby([\"bin\"])['prediction'].agg('sum')\n",
    "LR_NGIC = output_data.groupby([\"bin\"])[loss].agg('sum')/output_data.groupby([\"bin\"])[current_pred].agg('sum')\n",
    "\n",
    "x_bin = [1,2,3,4,5,6,7,8,9,10]\n",
    "data_dict = {\"bin\":x_bin, \"LR_DR\":LR_DR, \"LR_NGIC\":LR_NGIC}\n",
    "data_4_plot = pd.DataFrame(data_dict)\n",
    "\n",
    "plt.plot(data_4_plot[\"bin\"],data_4_plot[\"LR_DR\"])\n",
    "plt.plot(data_4_plot[\"bin\"],data_4_plot[\"LR_NGIC\"])\n",
    "plt.show()"
   ]
  },
  {
   "cell_type": "code",
   "execution_count": null,
   "metadata": {},
   "outputs": [],
   "source": []
  },
  {
   "cell_type": "code",
   "execution_count": null,
   "metadata": {},
   "outputs": [],
   "source": []
  }
 ],
 "metadata": {
  "kernelspec": {
   "display_name": "Python 3",
   "language": "python",
   "name": "python3"
  },
  "language_info": {
   "codemirror_mode": {
    "name": "ipython",
    "version": 3
   },
   "file_extension": ".py",
   "mimetype": "text/x-python",
   "name": "python",
   "nbconvert_exporter": "python",
   "pygments_lexer": "ipython3",
   "version": "3.7.4"
  }
 },
 "nbformat": 4,
 "nbformat_minor": 2
}
